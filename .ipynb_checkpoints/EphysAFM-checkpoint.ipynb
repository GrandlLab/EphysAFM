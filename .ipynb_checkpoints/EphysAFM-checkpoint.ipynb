{
 "cells": [
  {
   "cell_type": "markdown",
   "metadata": {},
   "source": [
    "# Analysis of Ephys-AFM data"
   ]
  },
  {
   "cell_type": "markdown",
   "metadata": {},
   "source": [
    "The following notebook presents an example of a typical analysis pipeline. The analysis is performed in bulk on all data files within a given folder. Versions of the functions for analyzing single files are also present in the relevant modules if needed."
   ]
  },
  {
   "cell_type": "markdown",
   "metadata": {},
   "source": [
    "## Set Path"
   ]
  },
  {
   "cell_type": "markdown",
   "metadata": {},
   "source": [
    "We begin by importing the relevant modules: preprocess, summarize, and plotData. All other dependencies are included in the modules. The path variable should be set to the folder containing the data to be analyzed. Be sure to change the path to the specific folder you want to analyze."
   ]
  },
  {
   "cell_type": "code",
   "execution_count": 1,
   "metadata": {
    "tags": []
   },
   "outputs": [],
   "source": [
    "#%matplotlib qt\n",
    "from preprocess import *\n",
    "from summarize import *\n",
    "from plotData import *\n",
    "\n",
    "## Change these if needed.\n",
    "\n",
    "headers = ['index', 'ti', 'i', 'tv', 'v', 'tin0', 'in0', 'tz', 'z', 'tlat', 'lat']\n",
    "path = \"E:/Research/Thesis/modulators/cytod/\""
   ]
  },
  {
   "cell_type": "markdown",
   "metadata": {
    "tags": []
   },
   "source": [
    "## Preprocess Data\n",
    "\n",
    "Next, we preprocess the data. The `preprocessDirectory` function will find all files in the path that end in the string passed as the second argument. In the example below any file that ends with \"scan\" will be preprocessed. The window dictates the time interval to use for baseline subtraction and should be a point in each sweep where no stimulus is applied. Each data file should have an associated \"params\" file and \"sensitivity\" file with the experimental parameters and sensitivity calibration for each experiment respectively. Preprocessing each file involves the following steps:\n",
    "\n",
    "- Convert units to mV, ms, and pA for the columns v, ti, and i, respectively.\n",
    "- Baseline subtract the current (i) and photodetector voltage (in0) creating new columns \"i_blsub\" and \"in0_blsub\", respectively.\n",
    "- Calculate the deflection, position, force, and the cumulative work done over the course of the sweep and append these as new columns in the dataframe.\n",
    "- Save the dataframe into a feather file with the same name as the original file and the word \"_preprocessed\" appended to the end of the filename."
   ]
  },
  {
   "cell_type": "code",
   "execution_count": null,
   "metadata": {
    "tags": []
   },
   "outputs": [],
   "source": [
    "preprocessDirectory(path, 'scan', headers=headers, window=[50,150])"
   ]
  },
  {
   "cell_type": "markdown",
   "metadata": {
    "tags": []
   },
   "source": [
    "## Summarize Data\n",
    "\n",
    "We next summarize each sweep and create a table. The `summarizeDirectory` function will process all files in a given directory. The arguments include a path to a directory of interest, the suffix of the filenames containing the data to be analyzed, an roi window within which the stimulus is applied, and a baseline subtraction window. A new dataframe will be generated with the following parameters: \n",
    " - **path**: The path to the file being summarized.\n",
    " - **uniqueID**: A cell-specific unique identifier.\n",
    " - **date**: The date the experiment was performed.\n",
    " - **construct**: The construct transfected for a given experiment or other experimental condition.\n",
    " - **cell**: The number of the cell for a given experimental session.\n",
    " - **protocol**: The protocol applied.\n",
    " - **sweep**: The sweep number on that cell.\n",
    " - **velocity**: The velocity of the cantilever for a given experiment.\n",
    " - **kcant**: The stiffness of the cantilever for a given experiment.\n",
    " - **dkcant**: An estimate of the uncertainty in cantilever calibration.\n",
    " - **osm**: The osmolality of the solution measured after a given experiment (not done for all experiments).\n",
    " - **Rs**: Series resistance for a given recording.\n",
    " - **Rscomp**: Percent compensation of series resistance.\n",
    " - **Cm**: Slow (whole-cell) capacitance of a given recording.\n",
    " - **seal**: Estimated seal resistance for a given recording.\n",
    " - **vhold**: Holding potential for a given recording.\n",
    " - **vstep**: Voltage step during a given recording if present.\n",
    " - **peaki**: Peak current over the course of a particular sweep.\n",
    " - **tpeaki**: The timing of the peak current in a given sweep.\n",
    " - **peakf**: The peak force of a particular sweep.\n",
    " - **tpeakf**: The timing of the peak force in a given sweep.\n",
    " - **f95**: The force 95 ms into the static phase of a given sweep.\n",
    " - **i95**: The current 95 ms into the static phase of a given sweep.\n",
    " - **peakw**: The peak work of a particular sweep.\n",
    " - **tpeakw**: The timing of the peak work of a given sweep.\n",
    " - **wpeakf**: The work done at the point where a given sweep reaches the peak force.\n",
    " - **leak**: The amount of current at a holding potential of -80 mV used for triaging.\n",
    " - **offset**: The mean current over a 10 ms window just prior to stimulus onset used to correct for any offset if present.\n",
    " - **stdev**: The standard deviation of the current over a 50 ms window prior to stimulus onset.\n",
    " - **delay**: tpeaki - tpeakf\n",
    " - **thresh**: The current threshold taken to be offset + 2 * stdev.\n",
    " - **threshind**: The index of the last point in a sweep below the threshold current.\n",
    " - **thresht**: The timing of the threshold crossing for a given sweep.\n",
    " - **fthresh**: The force applied at the time of threshold crossing.\n",
    " - **wthresh**: The cumulative work done at the time of threshold crossing.\n",
    " \n",
    " These parameters are saved into a separate file that shares the filename with the original data superceded by the tag \"_summarized\" and is used for further downstream analysis."
   ]
  },
  {
   "cell_type": "code",
   "execution_count": 1,
   "metadata": {},
   "outputs": [
    {
     "ename": "NameError",
     "evalue": "name 'summarizeDirectory' is not defined",
     "output_type": "error",
     "traceback": [
      "\u001b[1;31m---------------------------------------------------------------------------\u001b[0m",
      "\u001b[1;31mNameError\u001b[0m                                 Traceback (most recent call last)",
      "Input \u001b[1;32mIn [1]\u001b[0m, in \u001b[0;36m<module>\u001b[1;34m\u001b[0m\n\u001b[0;32m      1\u001b[0m roi \u001b[38;5;241m=\u001b[39m [\u001b[38;5;241m750\u001b[39m,\u001b[38;5;241m1200\u001b[39m]\n\u001b[0;32m      2\u001b[0m blsub \u001b[38;5;241m=\u001b[39m [\u001b[38;5;241m50\u001b[39m,\u001b[38;5;241m150\u001b[39m]\n\u001b[1;32m----> 4\u001b[0m \u001b[43msummarizeDirectory\u001b[49m(path, \u001b[38;5;124m'\u001b[39m\u001b[38;5;124mscan\u001b[39m\u001b[38;5;124m'\u001b[39m, roi\u001b[38;5;241m=\u001b[39mroi, window\u001b[38;5;241m=\u001b[39mblsub)\n",
      "\u001b[1;31mNameError\u001b[0m: name 'summarizeDirectory' is not defined"
     ]
    }
   ],
   "source": [
    "roi = [750,1200]\n",
    "blsub = [50,150]\n",
    "\n",
    "summarizeDirectory(path, 'scan', roi=roi, window=blsub)"
   ]
  },
  {
   "cell_type": "markdown",
   "metadata": {},
   "source": [
    "## Plot Data\n",
    "\n",
    "Next we plot the preprocessed traces for all files in a given directory. Some of the summary parameters such as the threshold, time of peak current, and time of peak force are overlaid on the data. This is an important step to quality check the data and ensure that the analysis is outputting expected results. At this point you should check whether a particular cell was responsive, whether you are picking up recording artifacts for a particular trace and need to adjust some of the analysis parameters, whether the detected peaks and thresholds are sensible given the data.\n"
   ]
  },
  {
   "cell_type": "code",
   "execution_count": null,
   "metadata": {},
   "outputs": [],
   "source": [
    "protocol='scan'\n",
    "path_list = []\n",
    "for root, dirs, files in os.walk(path):\n",
    "    for file in files:\n",
    "      if file.find(protocol + '_preprocessed.feather') != -1:\n",
    "        path_list.append(os.path.join(root, file).replace(\"\\\\\",\"/\"))"
   ]
  },
  {
   "cell_type": "code",
   "execution_count": null,
   "metadata": {},
   "outputs": [],
   "source": [
    "for i in path_list:\n",
    "    dat  = PlotData(i)\n",
    "    dat.plot_all_sweeps(['position', 'force', 'work', 'i_blsub'], roi=[500,1150], scalebars=True, checksum=True)"
   ]
  },
  {
   "cell_type": "markdown",
   "metadata": {},
   "source": [
    "## Make approaches file\n",
    "\n",
    "Next, we will concatenate the traces corresponding to the compression phase of our stimulus for each uniqueID and sweep number we have in our summary file. Be sure to update the path to the summary file you created earlier."
   ]
  },
  {
   "cell_type": "code",
   "execution_count": null,
   "metadata": {},
   "outputs": [],
   "source": [
    "summaryPath = \"E:/Research/Thesis/modulators/cytod/k2p/k2pcd_summary.csv\"\n",
    "make_sweepfile(summaryPath)"
   ]
  },
  {
   "cell_type": "markdown",
   "metadata": {},
   "source": [
    "## Measure Slopes\n",
    "\n",
    "We must also determine the slopes in order to calculate the work resolution. To do this we must switch our plotting backend from `matplotlib inline` to `matplotlib qt`. To do this restart the kernel and uncomment the first line of the first cell of code where it says `#%matplotlib qt`. Run the first cell then come down to the last cell and run the code with the appropriate path to the summary file for the dataset and the preprocessed sweeps for that dataset. We must change the backend so that we can interact with the plots. It will go through each individual sweep and plot the approach phase of the data with absolute current as a function of work done. You can manually select the region to be fit with a line by mousing over the region of interest on the plot. The code will return the slope which can then be added to the summary file for later analysis. The paths should be adjusted to include the summary file and the approaches file you created earlier."
   ]
  },
  {
   "cell_type": "code",
   "execution_count": null,
   "metadata": {
    "tags": []
   },
   "outputs": [
    {
     "name": "stdout",
     "output_type": "stream",
     "text": [
      "20210326-01\n",
      "20210326-10\n",
      "20210326-11\n",
      "20210326-02\n",
      "20210326-03\n",
      "20210326-04\n",
      "20210326-05\n",
      "20210326-06\n",
      "20210326-07\n",
      "20210326-08\n",
      "20210326-09\n",
      "20210527-c1-scan\n",
      "20210527-c8-scan\n",
      "20210527-c7-scan\n",
      "20210527-c2-scan\n",
      "20210527-c3-scan\n",
      "20210527-c4-scan\n",
      "20210527-c5-scan\n",
      "20210331-c1-scan\n",
      "20210331-c2-scan\n",
      "20210331-c3-scan\n",
      "20210610-c1-scan\n",
      "20210610-c2-scan\n",
      "20210610-c8-scan\n",
      "20210610-c4-scan\n",
      "20210610-c5-scan\n",
      "20210610-c6-scan\n",
      "20210610-c7-scan\n",
      "20210610-c9-scan\n",
      "20210914-c1-scan\n",
      "20210914-c2-scan\n",
      "20210914-c3-scan\n",
      "20210914-c4-scan\n",
      "20210914-c5-scan\n",
      "20210914-c6-scan\n",
      "20210914-c7-scan\n",
      "20210914-c8-scan\n",
      "20210914-c9-scan\n",
      "20210607-c1-scan\n",
      "20210607-c2-scan\n",
      "20210607-c3-scan\n",
      "20210607-c4-scan\n",
      "20210607-c5-scan\n",
      "20210607-c6-scan\n",
      "20210607-c7-scan\n",
      "20210522-01\n",
      "20210522-02\n",
      "20210522-03\n",
      "20210522-04\n",
      "20210522-05\n",
      "20210522-06\n",
      "20210522-07\n",
      "20210522-09\n",
      "20210323-02\n",
      "20210323-03\n",
      "20210323-04\n",
      "20200311-8\n"
     ]
    }
   ],
   "source": [
    "summaryPath = \"E:/Research/Thesis/modulators/cytod/k2p/k2pcd_summary.csv\"\n",
    "sweepPath = \"E:/Research/Thesis/modulators/cytod/k2p/k2pcd_approaches.csv\"\n",
    "v = find_slopes(summaryPath, sweepPath, 'work', 'absi_blsub_mech')"
   ]
  }
 ],
 "metadata": {
  "kernelspec": {
   "display_name": "Python 3 (ipykernel)",
   "language": "python",
   "name": "python3"
  },
  "language_info": {
   "codemirror_mode": {
    "name": "ipython",
    "version": 3
   },
   "file_extension": ".py",
   "mimetype": "text/x-python",
   "name": "python",
   "nbconvert_exporter": "python",
   "pygments_lexer": "ipython3",
   "version": "3.10.2"
  }
 },
 "nbformat": 4,
 "nbformat_minor": 4
}
